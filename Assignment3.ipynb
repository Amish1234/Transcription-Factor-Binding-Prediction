{
  "nbformat": 4,
  "nbformat_minor": 0,
  "metadata": {
    "colab": {
      "name": "Assignment3.ipynb",
      "version": "0.3.2",
      "views": {},
      "default_view": {},
      "provenance": []
    },
    "kernelspec": {
      "name": "python3",
      "display_name": "Python 3"
    }
  },
  "cells": [
    {
      "metadata": {
        "id": "awUbEsmIbuaf",
        "colab_type": "code",
        "colab": {
          "autoexec": {
            "startup": false,
            "wait_interval": 0
          },
          "base_uri": "https://localhost:8080/",
          "height": 34
        },
        "outputId": "eb7c92e1-1537-4a01-bbd4-f0f9085ec025",
        "executionInfo": {
          "status": "ok",
          "timestamp": 1523241030110,
          "user_tz": 240,
          "elapsed": 1262,
          "user": {
            "displayName": "Amish Suchak",
            "photoUrl": "//lh3.googleusercontent.com/-Jz5jwl0wC9w/AAAAAAAAAAI/AAAAAAAAAco/qIuP6c3E9W8/s50-c-k-no/photo.jpg",
            "userId": "102152750243769383622"
          }
        }
      },
      "cell_type": "code",
      "source": [
        "import numpy as np\n",
        "import pandas as pd\n",
        "import sklearn\n",
        "from sklearn.model_selection import train_test_split\n",
        "from google.colab import files\n",
        "from keras.models import Sequential\n",
        "from keras.layers import Dense, Dropout, Activation, Flatten\n",
        "from keras.layers import Convolution2D \n",
        "from keras.utils import to_categorical\n",
        "from keras.utils import np_utils\n"
      ],
      "execution_count": 3,
      "outputs": [
        {
          "output_type": "stream",
          "text": [
            "Using TensorFlow backend.\n"
          ],
          "name": "stderr"
        }
      ]
    },
    {
      "metadata": {
        "id": "8Hx-zNyvvIlW",
        "colab_type": "code",
        "colab": {
          "autoexec": {
            "startup": false,
            "wait_interval": 0
          },
          "resources": {
            "http://localhost:8080/nbextensions/google.colab/files.js": {
              "data": "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",
              "ok": true,
              "headers": [
                [
                  "content-type",
                  "application/javascript"
                ]
              ],
              "status": 200,
              "status_text": ""
            }
          },
          "base_uri": "https://localhost:8080/",
          "height": 127
        },
        "outputId": "bbdfbfb1-20fa-4648-9167-24f6abe55c2e",
        "executionInfo": {
          "status": "ok",
          "timestamp": 1523241046125,
          "user_tz": 240,
          "elapsed": 15128,
          "user": {
            "displayName": "Amish Suchak",
            "photoUrl": "//lh3.googleusercontent.com/-Jz5jwl0wC9w/AAAAAAAAAAI/AAAAAAAAAco/qIuP6c3E9W8/s50-c-k-no/photo.jpg",
            "userId": "102152750243769383622"
          }
        }
      },
      "cell_type": "code",
      "source": [
        "testdata = files.upload()\n",
        "traindata = files.upload()\n"
      ],
      "execution_count": 4,
      "outputs": [
        {
          "output_type": "display_data",
          "data": {
            "text/html": [
              "\n",
              "     <input type=\"file\" id=\"files-5d6dc1ac-4620-4755-9bb7-788fd1bc1e2f\" name=\"files[]\" multiple disabled />\n",
              "     <output id=\"result-5d6dc1ac-4620-4755-9bb7-788fd1bc1e2f\">\n",
              "      Upload widget is only available when the cell has been executed in the\n",
              "      current browser session. Please rerun this cell to enable.\n",
              "      </output>\n",
              "      <script src=\"/nbextensions/google.colab/files.js\"></script> "
            ],
            "text/plain": [
              "<IPython.core.display.HTML object>"
            ]
          },
          "metadata": {
            "tags": []
          }
        },
        {
          "output_type": "stream",
          "text": [
            "Saving test.csv to test (35).csv\n"
          ],
          "name": "stdout"
        },
        {
          "output_type": "display_data",
          "data": {
            "text/html": [
              "\n",
              "     <input type=\"file\" id=\"files-3a0a3fe3-5a85-4976-a03c-824f8794ea59\" name=\"files[]\" multiple disabled />\n",
              "     <output id=\"result-3a0a3fe3-5a85-4976-a03c-824f8794ea59\">\n",
              "      Upload widget is only available when the cell has been executed in the\n",
              "      current browser session. Please rerun this cell to enable.\n",
              "      </output>\n",
              "      <script src=\"/nbextensions/google.colab/files.js\"></script> "
            ],
            "text/plain": [
              "<IPython.core.display.HTML object>"
            ]
          },
          "metadata": {
            "tags": []
          }
        },
        {
          "output_type": "stream",
          "text": [
            "Saving train.csv to train (34).csv\n"
          ],
          "name": "stdout"
        }
      ]
    },
    {
      "metadata": {
        "id": "pgn-dH_gkzBy",
        "colab_type": "code",
        "colab": {
          "autoexec": {
            "startup": false,
            "wait_interval": 0
          }
        }
      },
      "cell_type": "code",
      "source": [
        "import io \n",
        "df = pd.read_csv(io.StringIO(traindata['train.csv'].decode('utf-8')))\n",
        "#df.fillna(0,inplace=True)\n",
        "\n",
        "sequence = df['sequence']\n",
        "label = df['label']\n",
        "\n",
        "\n",
        "#alphabets = {}\n",
        "alphabets = {'A' : 0 , 'G' : 1 , 'C' : 2, 'T' : 3}\n",
        "\n",
        "idx = np.zeros((2000,14))\n",
        "\n",
        "for x in range(2000):\n",
        " idx[x] = [alphabets[ch] for ch in sequence[x]]\n",
        " idx[x] = np.transpose(idx[x])\n",
        "\n",
        "encoded = to_categorical(idx)\n",
        "\n",
        "X_train, X_test, y_train, y_test = train_test_split(idx, label, test_size=0.2)"
      ],
      "execution_count": 0,
      "outputs": []
    },
    {
      "metadata": {
        "id": "q6_GajvkwaSt",
        "colab_type": "code",
        "colab": {
          "autoexec": {
            "startup": false,
            "wait_interval": 0
          }
        }
      },
      "cell_type": "code",
      "source": [
        "\n",
        "\n",
        "df2 = pd.read_csv(io.StringIO(testdata['test.csv'].decode('utf-8')))\n",
        "df2.fillna(0,inplace=True)\n",
        "\n",
        "testsequence = df2['sequence']\n",
        "\n",
        "idxtest = np.zeros((400,14))\n",
        "\n",
        "\n",
        "for x in range(400):\n",
        " idxtest[x] = [alphabets[ch] for ch in testsequence[x]]\n"
      ],
      "execution_count": 0,
      "outputs": []
    },
    {
      "metadata": {
        "id": "Qr349Xic7-3g",
        "colab_type": "code",
        "colab": {
          "autoexec": {
            "startup": false,
            "wait_interval": 0
          }
        }
      },
      "cell_type": "code",
      "source": [
        "model = Sequential()\n",
        "model.add(Dense(20, input_dim = 14, activation = 'relu'))\n",
        "model.add(Dense(10, activation = 'relu'))\n",
        "model.add(Dense(10,activation = 'relu'))\n",
        "model.add(Dense(1, activation = 'sigmoid'))"
      ],
      "execution_count": 0,
      "outputs": []
    },
    {
      "metadata": {
        "id": "SWeVUkhlpZfI",
        "colab_type": "code",
        "colab": {
          "autoexec": {
            "startup": false,
            "wait_interval": 0
          },
          "base_uri": "https://localhost:8080/",
          "height": 4066
        },
        "outputId": "5f5ef5dd-f3c4-4053-964a-9d5836f86a3f",
        "executionInfo": {
          "status": "ok",
          "timestamp": 1523214174074,
          "user_tz": 240,
          "elapsed": 11874,
          "user": {
            "displayName": "Bharadwaj Sannapaneni",
            "photoUrl": "https://lh3.googleusercontent.com/a/default-user=s128",
            "userId": "109318841135892254507"
          }
        }
      },
      "cell_type": "code",
      "source": [
        "model.compile(loss = 'binary_crossentropy' , optimizer = 'adam', metrics = ['accuracy'])\n",
        "model.fit(X_train, y_train, epochs=120, batch_size=32 )"
      ],
      "execution_count": 53,
      "outputs": [
        {
          "output_type": "stream",
          "text": [
            "Epoch 1/120\n",
            "1600/1600 [==============================] - 0s 213us/step - loss: 0.6914 - acc: 0.5169\n",
            "Epoch 2/120\n",
            "1600/1600 [==============================] - 0s 59us/step - loss: 0.6729 - acc: 0.5675\n",
            "Epoch 3/120\n",
            "1600/1600 [==============================] - 0s 59us/step - loss: 0.6578 - acc: 0.6206\n",
            "Epoch 4/120\n",
            "1600/1600 [==============================] - 0s 58us/step - loss: 0.6439 - acc: 0.6338\n",
            "Epoch 5/120\n",
            "1600/1600 [==============================] - 0s 60us/step - loss: 0.6280 - acc: 0.6562\n",
            "Epoch 6/120\n",
            "1600/1600 [==============================] - 0s 61us/step - loss: 0.6142 - acc: 0.6575\n",
            "Epoch 7/120\n",
            "1600/1600 [==============================] - 0s 59us/step - loss: 0.5991 - acc: 0.6856\n",
            "Epoch 8/120\n",
            "1600/1600 [==============================] - 0s 59us/step - loss: 0.5852 - acc: 0.7013\n",
            "Epoch 9/120\n",
            "1600/1600 [==============================] - 0s 57us/step - loss: 0.5707 - acc: 0.7100\n",
            "Epoch 10/120\n",
            "1600/1600 [==============================] - 0s 62us/step - loss: 0.5588 - acc: 0.7219\n",
            "Epoch 11/120\n",
            "1600/1600 [==============================] - 0s 75us/step - loss: 0.5398 - acc: 0.7425\n",
            "Epoch 12/120\n",
            "1600/1600 [==============================] - 0s 61us/step - loss: 0.5291 - acc: 0.7512\n",
            "Epoch 13/120\n",
            "1600/1600 [==============================] - 0s 64us/step - loss: 0.5135 - acc: 0.7619\n",
            "Epoch 14/120\n",
            "1600/1600 [==============================] - 0s 61us/step - loss: 0.4962 - acc: 0.7650\n",
            "Epoch 15/120\n",
            "1600/1600 [==============================] - 0s 65us/step - loss: 0.4884 - acc: 0.7681\n",
            "Epoch 16/120\n",
            "1600/1600 [==============================] - 0s 73us/step - loss: 0.4774 - acc: 0.7875\n",
            "Epoch 17/120\n",
            "1600/1600 [==============================] - 0s 64us/step - loss: 0.4629 - acc: 0.7875\n",
            "Epoch 18/120\n",
            "1600/1600 [==============================] - 0s 66us/step - loss: 0.4559 - acc: 0.7850\n",
            "Epoch 19/120\n",
            "1600/1600 [==============================] - 0s 71us/step - loss: 0.4439 - acc: 0.8019\n",
            "Epoch 20/120\n",
            "1600/1600 [==============================] - 0s 63us/step - loss: 0.4394 - acc: 0.7981\n",
            "Epoch 21/120\n",
            "1600/1600 [==============================] - 0s 60us/step - loss: 0.4276 - acc: 0.8081\n",
            "Epoch 22/120\n",
            "1600/1600 [==============================] - 0s 55us/step - loss: 0.4198 - acc: 0.8125\n",
            "Epoch 23/120\n",
            "1600/1600 [==============================] - 0s 65us/step - loss: 0.4122 - acc: 0.8125\n",
            "Epoch 24/120\n",
            "1056/1600 [==================>...........] - ETA: 0s - loss: 0.4073 - acc: 0.8163"
          ],
          "name": "stdout"
        },
        {
          "output_type": "stream",
          "text": [
            "1600/1600 [==============================] - 0s 61us/step - loss: 0.4055 - acc: 0.8206\n",
            "Epoch 25/120\n",
            "1600/1600 [==============================] - 0s 60us/step - loss: 0.3990 - acc: 0.8206\n",
            "Epoch 26/120\n",
            "1600/1600 [==============================] - 0s 56us/step - loss: 0.3921 - acc: 0.8294\n",
            "Epoch 27/120\n",
            "1600/1600 [==============================] - 0s 55us/step - loss: 0.3929 - acc: 0.8213\n",
            "Epoch 28/120\n",
            "1600/1600 [==============================] - 0s 57us/step - loss: 0.3815 - acc: 0.8369\n",
            "Epoch 29/120\n",
            "1600/1600 [==============================] - 0s 57us/step - loss: 0.3789 - acc: 0.8356\n",
            "Epoch 30/120\n",
            "1600/1600 [==============================] - 0s 53us/step - loss: 0.3814 - acc: 0.8350\n",
            "Epoch 31/120\n",
            "1600/1600 [==============================] - 0s 55us/step - loss: 0.3799 - acc: 0.8325\n",
            "Epoch 32/120\n",
            "1600/1600 [==============================] - 0s 55us/step - loss: 0.3669 - acc: 0.8387\n",
            "Epoch 33/120\n",
            "1600/1600 [==============================] - 0s 52us/step - loss: 0.3666 - acc: 0.8356\n",
            "Epoch 34/120\n",
            "1600/1600 [==============================] - 0s 58us/step - loss: 0.3668 - acc: 0.8419\n",
            "Epoch 35/120\n",
            "1600/1600 [==============================] - 0s 54us/step - loss: 0.3606 - acc: 0.8438\n",
            "Epoch 36/120\n",
            "1600/1600 [==============================] - 0s 56us/step - loss: 0.3628 - acc: 0.8419\n",
            "Epoch 37/120\n",
            "1600/1600 [==============================] - 0s 52us/step - loss: 0.3591 - acc: 0.8450\n",
            "Epoch 38/120\n",
            "1600/1600 [==============================] - 0s 50us/step - loss: 0.3585 - acc: 0.8306\n",
            "Epoch 39/120\n",
            "1600/1600 [==============================] - 0s 51us/step - loss: 0.3479 - acc: 0.8538\n",
            "Epoch 40/120\n",
            "1600/1600 [==============================] - 0s 49us/step - loss: 0.3532 - acc: 0.8475\n",
            "Epoch 41/120\n",
            "1600/1600 [==============================] - 0s 54us/step - loss: 0.3409 - acc: 0.8550\n",
            "Epoch 42/120\n",
            "1600/1600 [==============================] - 0s 54us/step - loss: 0.3415 - acc: 0.8512\n",
            "Epoch 43/120\n",
            "1600/1600 [==============================] - 0s 49us/step - loss: 0.3339 - acc: 0.8656\n",
            "Epoch 44/120\n",
            "1600/1600 [==============================] - 0s 52us/step - loss: 0.3403 - acc: 0.8500\n",
            "Epoch 45/120\n",
            "1600/1600 [==============================] - 0s 51us/step - loss: 0.3330 - acc: 0.8606\n",
            "Epoch 46/120\n",
            "1600/1600 [==============================] - 0s 57us/step - loss: 0.3328 - acc: 0.8569\n",
            "Epoch 47/120\n",
            "1600/1600 [==============================] - 0s 50us/step - loss: 0.3277 - acc: 0.8612\n",
            "Epoch 48/120\n",
            "1600/1600 [==============================] - 0s 51us/step - loss: 0.3215 - acc: 0.8644\n"
          ],
          "name": "stdout"
        },
        {
          "output_type": "stream",
          "text": [
            "Epoch 49/120\n",
            "1600/1600 [==============================] - 0s 56us/step - loss: 0.3239 - acc: 0.8706\n",
            "Epoch 50/120\n",
            "1600/1600 [==============================] - 0s 53us/step - loss: 0.3246 - acc: 0.8600\n",
            "Epoch 51/120\n",
            "1600/1600 [==============================] - 0s 56us/step - loss: 0.3222 - acc: 0.8688\n",
            "Epoch 52/120\n",
            "1600/1600 [==============================] - 0s 56us/step - loss: 0.3200 - acc: 0.8650\n",
            "Epoch 53/120\n",
            "1600/1600 [==============================] - 0s 50us/step - loss: 0.3145 - acc: 0.8638\n",
            "Epoch 54/120\n",
            "1600/1600 [==============================] - 0s 57us/step - loss: 0.3085 - acc: 0.8756\n",
            "Epoch 55/120\n",
            "1600/1600 [==============================] - 0s 50us/step - loss: 0.3121 - acc: 0.8694\n",
            "Epoch 56/120\n",
            "1600/1600 [==============================] - 0s 59us/step - loss: 0.3058 - acc: 0.8706\n",
            "Epoch 57/120\n",
            "1600/1600 [==============================] - 0s 53us/step - loss: 0.3116 - acc: 0.8700\n",
            "Epoch 58/120\n",
            "1600/1600 [==============================] - 0s 54us/step - loss: 0.3042 - acc: 0.8731\n",
            "Epoch 59/120\n",
            "1600/1600 [==============================] - 0s 53us/step - loss: 0.2991 - acc: 0.8756\n",
            "Epoch 60/120\n",
            "1600/1600 [==============================] - 0s 56us/step - loss: 0.2979 - acc: 0.8719\n",
            "Epoch 61/120\n",
            "1600/1600 [==============================] - 0s 51us/step - loss: 0.2999 - acc: 0.8706\n",
            "Epoch 62/120\n",
            "1600/1600 [==============================] - 0s 60us/step - loss: 0.2981 - acc: 0.8781\n",
            "Epoch 63/120\n",
            "1600/1600 [==============================] - 0s 56us/step - loss: 0.3034 - acc: 0.8706\n",
            "Epoch 64/120\n",
            "1600/1600 [==============================] - 0s 56us/step - loss: 0.2970 - acc: 0.8762\n",
            "Epoch 65/120\n",
            "1600/1600 [==============================] - 0s 54us/step - loss: 0.2906 - acc: 0.8787\n",
            "Epoch 66/120\n",
            "1600/1600 [==============================] - 0s 58us/step - loss: 0.2923 - acc: 0.8750\n",
            "Epoch 67/120\n",
            "1600/1600 [==============================] - 0s 53us/step - loss: 0.2875 - acc: 0.8775\n",
            "Epoch 68/120\n",
            "1600/1600 [==============================] - 0s 57us/step - loss: 0.2924 - acc: 0.8781\n",
            "Epoch 69/120\n",
            "1600/1600 [==============================] - 0s 53us/step - loss: 0.2972 - acc: 0.8700\n",
            "Epoch 70/120\n",
            "1600/1600 [==============================] - 0s 57us/step - loss: 0.2874 - acc: 0.8812\n",
            "Epoch 71/120\n",
            "1600/1600 [==============================] - 0s 57us/step - loss: 0.2875 - acc: 0.8844\n",
            "Epoch 72/120\n",
            "1600/1600 [==============================] - 0s 59us/step - loss: 0.2801 - acc: 0.8806\n",
            "Epoch 73/120\n",
            "1600/1600 [==============================] - 0s 54us/step - loss: 0.2946 - acc: 0.8762\n",
            "Epoch 74/120\n",
            "  32/1600 [..............................] - ETA: 0s - loss: 0.2119 - acc: 0.9688"
          ],
          "name": "stdout"
        },
        {
          "output_type": "stream",
          "text": [
            "1600/1600 [==============================] - 0s 61us/step - loss: 0.2835 - acc: 0.8819\n",
            "Epoch 75/120\n",
            "1600/1600 [==============================] - 0s 58us/step - loss: 0.2801 - acc: 0.8856\n",
            "Epoch 76/120\n",
            "1600/1600 [==============================] - 0s 57us/step - loss: 0.2769 - acc: 0.8856\n",
            "Epoch 77/120\n",
            "1600/1600 [==============================] - 0s 57us/step - loss: 0.2811 - acc: 0.8844\n",
            "Epoch 78/120\n",
            "1600/1600 [==============================] - 0s 59us/step - loss: 0.2768 - acc: 0.8912\n",
            "Epoch 79/120\n",
            "1600/1600 [==============================] - 0s 53us/step - loss: 0.2713 - acc: 0.8850\n",
            "Epoch 80/120\n",
            "1600/1600 [==============================] - 0s 58us/step - loss: 0.2731 - acc: 0.8919\n",
            "Epoch 81/120\n",
            "1600/1600 [==============================] - 0s 57us/step - loss: 0.2704 - acc: 0.8875\n",
            "Epoch 82/120\n",
            "1600/1600 [==============================] - 0s 55us/step - loss: 0.2682 - acc: 0.8881\n",
            "Epoch 83/120\n",
            "1600/1600 [==============================] - 0s 60us/step - loss: 0.2760 - acc: 0.8844\n",
            "Epoch 84/120\n",
            "1600/1600 [==============================] - 0s 55us/step - loss: 0.2707 - acc: 0.8894\n",
            "Epoch 85/120\n",
            "1600/1600 [==============================] - 0s 56us/step - loss: 0.2641 - acc: 0.8906\n",
            "Epoch 86/120\n",
            "1600/1600 [==============================] - 0s 56us/step - loss: 0.2643 - acc: 0.8906\n",
            "Epoch 87/120\n",
            "1600/1600 [==============================] - 0s 59us/step - loss: 0.2645 - acc: 0.8900\n",
            "Epoch 88/120\n",
            "1600/1600 [==============================] - 0s 58us/step - loss: 0.2620 - acc: 0.8906\n",
            "Epoch 89/120\n",
            "1600/1600 [==============================] - 0s 54us/step - loss: 0.2678 - acc: 0.8838\n",
            "Epoch 90/120\n",
            "1600/1600 [==============================] - 0s 52us/step - loss: 0.2574 - acc: 0.8931\n",
            "Epoch 91/120\n",
            "1600/1600 [==============================] - 0s 55us/step - loss: 0.2562 - acc: 0.8937\n",
            "Epoch 92/120\n",
            "1600/1600 [==============================] - 0s 51us/step - loss: 0.2537 - acc: 0.8906\n",
            "Epoch 93/120\n",
            "1600/1600 [==============================] - 0s 55us/step - loss: 0.2522 - acc: 0.9031\n",
            "Epoch 94/120\n",
            "1600/1600 [==============================] - 0s 50us/step - loss: 0.2512 - acc: 0.8981\n",
            "Epoch 95/120\n",
            "1600/1600 [==============================] - 0s 58us/step - loss: 0.2536 - acc: 0.8956\n",
            "Epoch 96/120\n",
            "1600/1600 [==============================] - 0s 54us/step - loss: 0.2483 - acc: 0.9006\n",
            "Epoch 97/120\n",
            "1600/1600 [==============================] - 0s 53us/step - loss: 0.2485 - acc: 0.9025\n",
            "Epoch 98/120\n",
            "1600/1600 [==============================] - 0s 57us/step - loss: 0.2480 - acc: 0.8975\n"
          ],
          "name": "stdout"
        },
        {
          "output_type": "stream",
          "text": [
            "Epoch 99/120\n",
            "1600/1600 [==============================] - 0s 53us/step - loss: 0.2441 - acc: 0.9044\n",
            "Epoch 100/120\n",
            "1600/1600 [==============================] - 0s 56us/step - loss: 0.2536 - acc: 0.8956\n",
            "Epoch 101/120\n",
            "1600/1600 [==============================] - 0s 51us/step - loss: 0.2469 - acc: 0.9019\n",
            "Epoch 102/120\n",
            "1600/1600 [==============================] - 0s 53us/step - loss: 0.2396 - acc: 0.9044\n",
            "Epoch 103/120\n",
            "1600/1600 [==============================] - 0s 54us/step - loss: 0.2420 - acc: 0.9044\n",
            "Epoch 104/120\n",
            "1600/1600 [==============================] - 0s 54us/step - loss: 0.2440 - acc: 0.9056\n",
            "Epoch 105/120\n",
            "1600/1600 [==============================] - 0s 52us/step - loss: 0.2399 - acc: 0.8981\n",
            "Epoch 106/120\n",
            "1600/1600 [==============================] - 0s 57us/step - loss: 0.2424 - acc: 0.8994\n",
            "Epoch 107/120\n",
            "1600/1600 [==============================] - 0s 58us/step - loss: 0.2402 - acc: 0.9000\n",
            "Epoch 108/120\n",
            "1600/1600 [==============================] - 0s 53us/step - loss: 0.2388 - acc: 0.9062\n",
            "Epoch 109/120\n",
            "1600/1600 [==============================] - 0s 57us/step - loss: 0.2391 - acc: 0.9019\n",
            "Epoch 110/120\n",
            "1600/1600 [==============================] - 0s 55us/step - loss: 0.2366 - acc: 0.9025\n",
            "Epoch 111/120\n",
            "1600/1600 [==============================] - 0s 56us/step - loss: 0.2331 - acc: 0.9050\n",
            "Epoch 112/120\n",
            "1600/1600 [==============================] - 0s 58us/step - loss: 0.2434 - acc: 0.8950\n",
            "Epoch 113/120\n",
            "1600/1600 [==============================] - 0s 52us/step - loss: 0.2337 - acc: 0.9075\n",
            "Epoch 114/120\n",
            "1600/1600 [==============================] - 0s 57us/step - loss: 0.2337 - acc: 0.9069\n",
            "Epoch 115/120\n",
            "1600/1600 [==============================] - 0s 57us/step - loss: 0.2348 - acc: 0.9075\n",
            "Epoch 116/120\n",
            "1600/1600 [==============================] - 0s 49us/step - loss: 0.2304 - acc: 0.9094\n",
            "Epoch 117/120\n",
            "1600/1600 [==============================] - 0s 56us/step - loss: 0.2341 - acc: 0.9050\n",
            "Epoch 118/120\n",
            "1600/1600 [==============================] - 0s 56us/step - loss: 0.2319 - acc: 0.9100\n",
            "Epoch 119/120\n",
            "1600/1600 [==============================] - 0s 51us/step - loss: 0.2303 - acc: 0.9081\n",
            "Epoch 120/120\n",
            "1600/1600 [==============================] - 0s 54us/step - loss: 0.2264 - acc: 0.9062\n"
          ],
          "name": "stdout"
        },
        {
          "output_type": "execute_result",
          "data": {
            "text/plain": [
              "<keras.callbacks.History at 0x7fb3be5f7be0>"
            ]
          },
          "metadata": {
            "tags": []
          },
          "execution_count": 53
        }
      ]
    },
    {
      "metadata": {
        "id": "iv1PB_lrHwVt",
        "colab_type": "code",
        "colab": {
          "autoexec": {
            "startup": false,
            "wait_interval": 0
          },
          "base_uri": "https://localhost:8080/",
          "height": 51
        },
        "outputId": "058f4ccd-c460-4f65-b52e-7c6a92e5ec62",
        "executionInfo": {
          "status": "ok",
          "timestamp": 1523214194055,
          "user_tz": 240,
          "elapsed": 366,
          "user": {
            "displayName": "Bharadwaj Sannapaneni",
            "photoUrl": "https://lh3.googleusercontent.com/a/default-user=s128",
            "userId": "109318841135892254507"
          }
        }
      },
      "cell_type": "code",
      "source": [
        "accuracy = model.evaluate(X_test, y_test)\n",
        "print(accuracy)"
      ],
      "execution_count": 54,
      "outputs": [
        {
          "output_type": "stream",
          "text": [
            "400/400 [==============================] - 0s 247us/step\n",
            "[0.6027751469612121, 0.7775]\n"
          ],
          "name": "stdout"
        }
      ]
    },
    {
      "metadata": {
        "id": "CsCyylQfyERv",
        "colab_type": "code",
        "colab": {
          "autoexec": {
            "startup": false,
            "wait_interval": 0
          },
          "base_uri": "https://localhost:8080/",
          "height": 54
        },
        "outputId": "dd56f783-8895-4eb8-d076-479d941defa8",
        "executionInfo": {
          "status": "ok",
          "timestamp": 1523214213467,
          "user_tz": 240,
          "elapsed": 317,
          "user": {
            "displayName": "Bharadwaj Sannapaneni",
            "photoUrl": "https://lh3.googleusercontent.com/a/default-user=s128",
            "userId": "109318841135892254507"
          }
        }
      },
      "cell_type": "code",
      "source": [
        "predictions = model.predict(idxtest)\n",
        "rounded = [round(x[0]) for x in predictions]\n",
        "print(rounded)\n"
      ],
      "execution_count": 55,
      "outputs": [
        {
          "output_type": "stream",
          "text": [
            "[1.0, 1.0, 1.0, 1.0, 0.0, 0.0, 1.0, 1.0, 0.0, 0.0, 1.0, 0.0, 1.0, 0.0, 0.0, 0.0, 0.0, 0.0, 1.0, 1.0, 0.0, 1.0, 1.0, 1.0, 0.0, 1.0, 0.0, 1.0, 0.0, 0.0, 0.0, 1.0, 1.0, 1.0, 0.0, 0.0, 1.0, 0.0, 1.0, 0.0, 0.0, 0.0, 0.0, 0.0, 1.0, 0.0, 0.0, 1.0, 0.0, 0.0, 1.0, 1.0, 0.0, 0.0, 0.0, 1.0, 0.0, 0.0, 1.0, 0.0, 0.0, 0.0, 1.0, 1.0, 0.0, 1.0, 0.0, 1.0, 1.0, 0.0, 0.0, 1.0, 1.0, 0.0, 1.0, 0.0, 0.0, 1.0, 1.0, 0.0, 0.0, 1.0, 0.0, 1.0, 0.0, 0.0, 0.0, 0.0, 0.0, 1.0, 1.0, 0.0, 0.0, 0.0, 1.0, 0.0, 1.0, 1.0, 1.0, 0.0, 0.0, 1.0, 0.0, 1.0, 1.0, 1.0, 1.0, 1.0, 0.0, 0.0, 1.0, 0.0, 1.0, 1.0, 1.0, 0.0, 0.0, 1.0, 0.0, 1.0, 1.0, 0.0, 1.0, 1.0, 0.0, 0.0, 1.0, 1.0, 1.0, 1.0, 0.0, 0.0, 1.0, 0.0, 0.0, 0.0, 0.0, 0.0, 0.0, 1.0, 0.0, 0.0, 1.0, 1.0, 1.0, 0.0, 0.0, 0.0, 1.0, 0.0, 1.0, 1.0, 1.0, 0.0, 1.0, 0.0, 1.0, 0.0, 1.0, 1.0, 1.0, 1.0, 1.0, 1.0, 0.0, 1.0, 0.0, 0.0, 1.0, 1.0, 1.0, 1.0, 1.0, 0.0, 0.0, 0.0, 1.0, 1.0, 0.0, 0.0, 1.0, 0.0, 1.0, 1.0, 1.0, 0.0, 1.0, 1.0, 1.0, 1.0, 0.0, 1.0, 0.0, 1.0, 1.0, 1.0, 0.0, 0.0, 1.0, 1.0, 0.0, 0.0, 1.0, 0.0, 1.0, 0.0, 1.0, 0.0, 0.0, 0.0, 0.0, 1.0, 0.0, 0.0, 0.0, 0.0, 0.0, 1.0, 0.0, 0.0, 1.0, 1.0, 1.0, 1.0, 1.0, 0.0, 1.0, 0.0, 1.0, 0.0, 1.0, 1.0, 0.0, 0.0, 1.0, 0.0, 1.0, 1.0, 0.0, 1.0, 0.0, 0.0, 0.0, 0.0, 0.0, 0.0, 1.0, 1.0, 0.0, 1.0, 1.0, 0.0, 1.0, 1.0, 1.0, 0.0, 1.0, 1.0, 0.0, 0.0, 1.0, 1.0, 1.0, 0.0, 0.0, 1.0, 1.0, 1.0, 1.0, 1.0, 1.0, 0.0, 0.0, 1.0, 0.0, 0.0, 0.0, 1.0, 1.0, 0.0, 0.0, 1.0, 0.0, 1.0, 1.0, 0.0, 1.0, 0.0, 0.0, 0.0, 1.0, 0.0, 1.0, 1.0, 1.0, 1.0, 0.0, 0.0, 0.0, 1.0, 0.0, 0.0, 1.0, 0.0, 0.0, 1.0, 1.0, 0.0, 0.0, 1.0, 0.0, 0.0, 1.0, 0.0, 1.0, 1.0, 0.0, 1.0, 1.0, 0.0, 0.0, 0.0, 1.0, 1.0, 0.0, 1.0, 1.0, 0.0, 1.0, 1.0, 1.0, 0.0, 1.0, 0.0, 1.0, 1.0, 1.0, 0.0, 1.0, 1.0, 0.0, 1.0, 1.0, 1.0, 0.0, 0.0, 1.0, 0.0, 1.0, 0.0, 1.0, 1.0, 1.0, 0.0, 1.0, 0.0, 0.0, 1.0, 0.0, 0.0, 1.0, 1.0, 1.0, 0.0, 1.0, 0.0, 0.0, 1.0, 1.0, 0.0, 1.0, 0.0, 0.0, 0.0, 1.0, 0.0, 0.0, 0.0, 1.0, 1.0, 0.0, 0.0, 1.0, 0.0, 1.0, 0.0, 0.0, 0.0, 1.0, 1.0, 0.0, 0.0, 0.0, 0.0, 1.0, 1.0, 0.0, 1.0, 0.0, 1.0]\n"
          ],
          "name": "stdout"
        }
      ]
    },
    {
      "metadata": {
        "id": "K_NuWY646BJt",
        "colab_type": "code",
        "colab": {
          "autoexec": {
            "startup": false,
            "wait_interval": 0
          }
        }
      },
      "cell_type": "code",
      "source": [
        ""
      ],
      "execution_count": 0,
      "outputs": []
    }
  ]
}